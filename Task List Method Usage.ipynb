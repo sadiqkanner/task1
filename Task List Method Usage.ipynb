{
 "cells": [
  {
   "cell_type": "code",
   "execution_count": 40,
   "metadata": {},
   "outputs": [
    {
     "name": "stdout",
     "output_type": "stream",
     "text": [
      "['ABC', 'EFG', 'XYZ', 'SADIQ']\n",
      "['ABC', 'EFG', 'XYZ', 'SADIQ']\n",
      "[]\n",
      "0\n",
      "['ABC', 'EFG', 'XYZ', 'SADIQ']\n",
      "['SK', 'BALOCH', 'ABC', 'EFG', 'XYZ', 'SADIQ']\n",
      "4\n",
      "['PIAIC', 'SK', 'BALOCH', 'ABC', 'EFG', 'XYZ', 'SADIQ']\n",
      "['PIAIC', 'SK', 'BALOCH', 'ABC', 'EFG', 'XYZ']\n",
      "['PIAIC', 'BALOCH', 'ABC', 'EFG', 'XYZ']\n",
      "['XYZ', 'EFG', 'ABC', 'BALOCH', 'PIAIC']\n",
      "['ABC', 'BALOCH', 'EFG', 'PIAIC', 'XYZ']\n"
     ]
    }
   ],
   "source": [
    "Mylist = ['ABC','EFG','XYZ']\n",
    "\n",
    "Mylist.append('SADIQ')\n",
    "print(Mylist)\n",
    "\n",
    "a = Mylist.copy()\n",
    "print(a)\n",
    "\n",
    "a.clear()\n",
    "print(a)\n",
    "\n",
    "print(Mylist.count(a))\n",
    "print(Mylist)\n",
    "\n",
    "NewList = ['SK','BALOCH']\n",
    "NewList.extend(Mylist)\n",
    "print(NewList)\n",
    "\n",
    "i = NewList.index('XYZ')\n",
    "print(i)\n",
    "\n",
    "NewList.insert(0,'PIAIC')\n",
    "print(NewList)\n",
    "\n",
    "NewList.pop()\n",
    "print(NewList)\n",
    "\n",
    "NewList.remove('SK')\n",
    "print(NewList)\n",
    "\n",
    "NewList.reverse()\n",
    "print(NewList)\n",
    "\n",
    "NewList.sort()\n",
    "print(NewList)"
   ]
  },
  {
   "cell_type": "code",
   "execution_count": null,
   "metadata": {},
   "outputs": [],
   "source": []
  },
  {
   "cell_type": "code",
   "execution_count": null,
   "metadata": {},
   "outputs": [],
   "source": []
  }
 ],
 "metadata": {
  "kernelspec": {
   "display_name": "Python 3",
   "language": "python",
   "name": "python3"
  },
  "language_info": {
   "codemirror_mode": {
    "name": "ipython",
    "version": 3
   },
   "file_extension": ".py",
   "mimetype": "text/x-python",
   "name": "python",
   "nbconvert_exporter": "python",
   "pygments_lexer": "ipython3",
   "version": "3.7.3"
  }
 },
 "nbformat": 4,
 "nbformat_minor": 2
}
