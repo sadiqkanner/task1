{
 "cells": [
  {
   "cell_type": "code",
   "execution_count": 27,
   "metadata": {},
   "outputs": [
    {
     "name": "stdout",
     "output_type": "stream",
     "text": [
      "{'Name': 'Sadiq', 'Age': 25, 'Phone': 32323, 'Address': 'Karachi'}\n",
      "{'K1': 'BALOCH', 'K2': 'BALOCH', 'K3': 'BALOCH'}\n",
      "Sadiq\n",
      "dict_keys(['Name', 'Age', 'Phone', 'Address'])\n",
      "dict_items([('Name', 'Sadiq'), ('Age', 25), ('Phone', 32323), ('Address', 'Karachi')])\n",
      "25\n",
      "('Address', 'Karachi')\n",
      "Sadiq\n",
      "{'Name': 'Sadiq', 'Phone': 32323, 'Blood': 'A+'}\n",
      "dict_values(['Sadiq', 32323, 'A+'])\n",
      "{}\n"
     ]
    }
   ],
   "source": [
    "dic = {\n",
    "    'Name' : 'Sadiq',\n",
    "    'Age' : 25 ,\n",
    "    'Phone' : 32323 ,\n",
    "    'Address' : 'Karachi'\n",
    "}\n",
    "\n",
    "\n",
    "ndic = dic.copy()\n",
    "print(ndic)\n",
    "\n",
    "\n",
    "k = ('K1' , 'K2' , 'K3')\n",
    "i = \"BALOCH\"\n",
    "s = dict.fromkeys(k,i)\n",
    "print(s)\n",
    "\n",
    "n = dic.get('Name')\n",
    "print(n)\n",
    "\n",
    "print(dic.keys())\n",
    "\n",
    "print(dic.items())\n",
    "\n",
    "pp = dic.pop('Age')\n",
    "print(pp)\n",
    "\n",
    "pi = dic.popitem()\n",
    "print(pi) #print the last Value of Dictionary\n",
    "\n",
    "sd = dic.setdefault('Name',\"Baloch\")\n",
    "print(sd)\n",
    "\n",
    "dic.update({'Blood':'A+'})\n",
    "print(dic)\n",
    "\n",
    "\n",
    "print(dic.values())\n",
    "\n",
    "dic.clear()\n",
    "print(dic)\n",
    "\n"
   ]
  },
  {
   "cell_type": "code",
   "execution_count": null,
   "metadata": {},
   "outputs": [],
   "source": []
  }
 ],
 "metadata": {
  "kernelspec": {
   "display_name": "Python 3",
   "language": "python",
   "name": "python3"
  },
  "language_info": {
   "codemirror_mode": {
    "name": "ipython",
    "version": 3
   },
   "file_extension": ".py",
   "mimetype": "text/x-python",
   "name": "python",
   "nbconvert_exporter": "python",
   "pygments_lexer": "ipython3",
   "version": "3.7.3"
  }
 },
 "nbformat": 4,
 "nbformat_minor": 2
}
